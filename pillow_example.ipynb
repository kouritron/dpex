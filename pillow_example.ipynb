{
 "cells": [
  {
   "cell_type": "code",
   "execution_count": 1,
   "metadata": {},
   "outputs": [],
   "source": [
    "from PIL import Image"
   ]
  },
  {
   "cell_type": "code",
   "execution_count": 2,
   "metadata": {},
   "outputs": [
    {
     "data": {
      "text/plain": [
       "\u001b[0;31mSignature:\u001b[0m \u001b[0mImage\u001b[0m\u001b[0;34m.\u001b[0m\u001b[0mnew\u001b[0m\u001b[0;34m(\u001b[0m\u001b[0mmode\u001b[0m\u001b[0;34m,\u001b[0m \u001b[0msize\u001b[0m\u001b[0;34m,\u001b[0m \u001b[0mcolor\u001b[0m\u001b[0;34m=\u001b[0m\u001b[0;36m0\u001b[0m\u001b[0;34m)\u001b[0m\u001b[0;34m\u001b[0m\u001b[0;34m\u001b[0m\u001b[0m\n",
       "\u001b[0;31mDocstring:\u001b[0m\n",
       "Creates a new image with the given mode and size.\n",
       "\n",
       ":param mode: The mode to use for the new image. See:\n",
       "   :ref:`concept-modes`.\n",
       ":param size: A 2-tuple, containing (width, height) in pixels.\n",
       ":param color: What color to use for the image.  Default is black.\n",
       "   If given, this should be a single integer or floating point value\n",
       "   for single-band modes, and a tuple for multi-band modes (one value\n",
       "   per band).  When creating RGB images, you can also use color\n",
       "   strings as supported by the ImageColor module.  If the color is\n",
       "   None, the image is not initialised.\n",
       ":returns: An :py:class:`~PIL.Image.Image` object.\n",
       "\u001b[0;31mFile:\u001b[0m      ~/.local/lib/python3.6/site-packages/PIL/Image.py\n",
       "\u001b[0;31mType:\u001b[0m      function\n"
      ]
     },
     "metadata": {},
     "output_type": "display_data"
    }
   ],
   "source": [
    "Image.new?"
   ]
  },
  {
   "cell_type": "code",
   "execution_count": 41,
   "metadata": {},
   "outputs": [
    {
     "name": "stdout",
     "output_type": "stream",
     "text": [
      "format: None, size: (600, 400), mode: RGBA\n"
     ]
    }
   ],
   "source": [
    "w = 600\n",
    "h = 400\n",
    "# RGBA: 4x8 bit true color with alpha\n",
    "# RGB:  3x8 bit true color\n",
    "# L:    1x8 bit black and white\n",
    "im = Image.new(mode='RGBA', size=(w,h), color=(177,2,177, 250) )\n",
    "\n",
    "print(f'format: {im.format}, size: {im.size}, mode: {im.mode}')\n",
    "\n",
    "im.show()\n"
   ]
  },
  {
   "cell_type": "code",
   "execution_count": 9,
   "metadata": {},
   "outputs": [
    {
     "data": {
      "text/plain": [
       "\u001b[0;31mSignature:\u001b[0m \u001b[0mim\u001b[0m\u001b[0;34m.\u001b[0m\u001b[0mgetdata\u001b[0m\u001b[0;34m(\u001b[0m\u001b[0mband\u001b[0m\u001b[0;34m=\u001b[0m\u001b[0;32mNone\u001b[0m\u001b[0;34m)\u001b[0m\u001b[0;34m\u001b[0m\u001b[0;34m\u001b[0m\u001b[0m\n",
       "\u001b[0;31mDocstring:\u001b[0m\n",
       "Returns the contents of this image as a sequence object\n",
       "containing pixel values.  The sequence object is flattened, so\n",
       "that values for line one follow directly after the values of\n",
       "line zero, and so on.\n",
       "\n",
       "Note that the sequence object returned by this method is an\n",
       "internal PIL data type, which only supports certain sequence\n",
       "operations.  To convert it to an ordinary sequence (e.g. for\n",
       "printing), use **list(im.getdata())**.\n",
       "\n",
       ":param band: What band to return.  The default is to return\n",
       "   all bands.  To return a single band, pass in the index\n",
       "   value (e.g. 0 to get the \"R\" band from an \"RGB\" image).\n",
       ":returns: A sequence-like object.\n",
       "\u001b[0;31mFile:\u001b[0m      ~/.local/lib/python3.6/site-packages/PIL/Image.py\n",
       "\u001b[0;31mType:\u001b[0m      method\n"
      ]
     },
     "metadata": {},
     "output_type": "display_data"
    }
   ],
   "source": [
    "im.getdata?"
   ]
  },
  {
   "cell_type": "code",
   "execution_count": 14,
   "metadata": {},
   "outputs": [
    {
     "data": {
      "text/plain": [
       "\u001b[0;31mSignature:\u001b[0m \u001b[0mim\u001b[0m\u001b[0;34m.\u001b[0m\u001b[0mgetim\u001b[0m\u001b[0;34m(\u001b[0m\u001b[0;34m)\u001b[0m\u001b[0;34m\u001b[0m\u001b[0;34m\u001b[0m\u001b[0m\n",
       "\u001b[0;31mDocstring:\u001b[0m\n",
       "Returns a capsule that points to the internal image memory.\n",
       "\n",
       ":returns: A capsule object.\n",
       "\u001b[0;31mFile:\u001b[0m      ~/.local/lib/python3.6/site-packages/PIL/Image.py\n",
       "\u001b[0;31mType:\u001b[0m      method\n"
      ]
     },
     "metadata": {},
     "output_type": "display_data"
    }
   ],
   "source": [
    "im.getim?"
   ]
  },
  {
   "cell_type": "code",
   "execution_count": null,
   "metadata": {},
   "outputs": [],
   "source": []
  },
  {
   "cell_type": "code",
   "execution_count": null,
   "metadata": {},
   "outputs": [],
   "source": []
  },
  {
   "cell_type": "code",
   "execution_count": null,
   "metadata": {},
   "outputs": [],
   "source": []
  },
  {
   "cell_type": "code",
   "execution_count": null,
   "metadata": {},
   "outputs": [],
   "source": []
  },
  {
   "cell_type": "code",
   "execution_count": null,
   "metadata": {},
   "outputs": [],
   "source": []
  },
  {
   "cell_type": "code",
   "execution_count": null,
   "metadata": {},
   "outputs": [],
   "source": []
  },
  {
   "cell_type": "code",
   "execution_count": null,
   "metadata": {},
   "outputs": [],
   "source": []
  },
  {
   "cell_type": "code",
   "execution_count": null,
   "metadata": {},
   "outputs": [],
   "source": []
  },
  {
   "cell_type": "markdown",
   "metadata": {},
   "source": [
    "# Draw Line"
   ]
  },
  {
   "cell_type": "code",
   "execution_count": 36,
   "metadata": {},
   "outputs": [],
   "source": [
    "# **************************************** Draw a line\n",
    "from PIL import Image, ImageDraw\n",
    "\n",
    "image = Image.new(mode='L', size=(600, 600), color=255)\n",
    "\n",
    "# Draw a line\n",
    "imd = ImageDraw.Draw(image)\n",
    "x = image.width / 2\n",
    "y_start = 0\n",
    "y_end = image.height\n",
    "line = ((x, y_start), (x, y_end))\n",
    "\n",
    "# imd.line(xy, fill=None, width=0, joint=None)\n",
    "# Docstring: Draw a line, or a connected sequence of line segments.\n",
    "# fill looks like is fill color\n",
    "imd.line(line, fill=16, width=10)\n",
    "\n",
    "# del imd\n",
    "image.show()"
   ]
  },
  {
   "cell_type": "code",
   "execution_count": 37,
   "metadata": {},
   "outputs": [],
   "source": [
    "# **************************************** Draw multiple lines\n",
    "image = Image.new(mode='L', size=(600, 600), color=255)\n",
    "\n",
    "# Draw some lines\n",
    "imd = ImageDraw.Draw(image)\n",
    "y_start = 0\n",
    "y_end = image.height\n",
    "step_size = int(image.width / 10)\n",
    "\n",
    "for x in range(0, image.width, step_size):\n",
    "    line = ((x, y_start), (x, y_end))\n",
    "    imd.line(line, fill=0, width=3)\n",
    "\n",
    "del imd\n",
    "image.show()"
   ]
  },
  {
   "cell_type": "code",
   "execution_count": null,
   "metadata": {},
   "outputs": [],
   "source": []
  },
  {
   "cell_type": "markdown",
   "metadata": {},
   "source": [
    "# Download an image from a URL"
   ]
  },
  {
   "cell_type": "code",
   "execution_count": 75,
   "metadata": {},
   "outputs": [
    {
     "name": "stdout",
     "output_type": "stream",
     "text": [
      "format: PNG, size: (180, 180), mode: RGB\n"
     ]
    }
   ],
   "source": [
    "# **************************************** DL image using requests\n",
    "# urllib3 is not in standard library, its used, maybe written by requests, so u prolly have it.\n",
    "# urllib and urllib2 existed in python 2 days. in python 3 there is only urllib\n",
    "# even urllib recommends using requests in its docs\n",
    "# urllib.request.urlopen() uses HTTP/1.1 and includes Connection:close header in its HTTP requests.\n",
    "\n",
    "from io import BytesIO\n",
    "import urllib\n",
    "import requests\n",
    "from PIL import Image\n",
    "\n",
    "url = 'https://avatars1.githubusercontent.com/u/24477926'\n",
    "\n",
    "# -------------------- using requests\n",
    "resp = requests.get(url)\n",
    "# get the bytes, b'\\x89PNG\\r\\n\\x1a\\n\\x00 .....\n",
    "remote_image_bytes = resp.content\n",
    "\n",
    "# -------------------- using urlopen\n",
    "# resp = urllib.request.urlopen(url)\n",
    "# # get the bytes, b'\\x89PNG\\r\\n\\x1a\\n\\x00 .....\n",
    "# remote_image_bytes = resp.read()\n",
    "\n",
    "# turn it into a file handle like object using BytesIO\n",
    "image_fh = BytesIO(remote_image_bytes)\n",
    "im = Image.open(image_fh)\n",
    "\n",
    "print(f'format: {im.format}, size: {im.size}, mode: {im.mode}')\n",
    "im.show()"
   ]
  },
  {
   "cell_type": "code",
   "execution_count": null,
   "metadata": {},
   "outputs": [],
   "source": []
  },
  {
   "cell_type": "code",
   "execution_count": null,
   "metadata": {},
   "outputs": [],
   "source": []
  },
  {
   "cell_type": "code",
   "execution_count": null,
   "metadata": {},
   "outputs": [],
   "source": []
  },
  {
   "cell_type": "markdown",
   "metadata": {},
   "source": [
    "# Apply some filters to an image"
   ]
  },
  {
   "cell_type": "code",
   "execution_count": 77,
   "metadata": {},
   "outputs": [
    {
     "name": "stdout",
     "output_type": "stream",
     "text": [
      "format: None, size: (180, 180), mode: RGB\n"
     ]
    }
   ],
   "source": [
    "# **************************************** Blur an image\n",
    "import requests\n",
    "from PIL import Image, ImageFilter\n",
    "\n",
    "# -------------------- using requests\n",
    "image_fh = BytesIO(requests.get('https://avatars1.githubusercontent.com/u/24477926').content)\n",
    "src_im = Image.open(image_fh)\n",
    "\n",
    "im = src_im.filter(ImageFilter.BLUR)\n",
    "\n",
    "print(f'format: {im.format}, size: {im.size}, mode: {im.mode}')\n",
    "im.show()"
   ]
  },
  {
   "cell_type": "code",
   "execution_count": 78,
   "metadata": {},
   "outputs": [
    {
     "name": "stdout",
     "output_type": "stream",
     "text": [
      "format: None, size: (180, 180), mode: RGB\n"
     ]
    }
   ],
   "source": [
    "# **************************************** SHARPEN \n",
    "import requests\n",
    "from PIL import Image, ImageFilter\n",
    "\n",
    "\n",
    "# -------------------- using requests\n",
    "image_fh = BytesIO(requests.get('https://avatars1.githubusercontent.com/u/24477926').content)\n",
    "src_im = Image.open(image_fh)\n",
    "\n",
    "\n",
    "im = src_im.filter(ImageFilter.SHARPEN)\n",
    "\n",
    "print(f'format: {im.format}, size: {im.size}, mode: {im.mode}')\n",
    "im.show()"
   ]
  },
  {
   "cell_type": "code",
   "execution_count": null,
   "metadata": {},
   "outputs": [],
   "source": []
  },
  {
   "cell_type": "code",
   "execution_count": null,
   "metadata": {},
   "outputs": [],
   "source": []
  },
  {
   "cell_type": "code",
   "execution_count": null,
   "metadata": {},
   "outputs": [],
   "source": []
  },
  {
   "cell_type": "code",
   "execution_count": null,
   "metadata": {},
   "outputs": [],
   "source": []
  },
  {
   "cell_type": "code",
   "execution_count": null,
   "metadata": {},
   "outputs": [],
   "source": []
  },
  {
   "cell_type": "code",
   "execution_count": null,
   "metadata": {},
   "outputs": [],
   "source": []
  },
  {
   "cell_type": "code",
   "execution_count": null,
   "metadata": {},
   "outputs": [],
   "source": []
  },
  {
   "cell_type": "code",
   "execution_count": null,
   "metadata": {},
   "outputs": [],
   "source": []
  },
  {
   "cell_type": "code",
   "execution_count": null,
   "metadata": {},
   "outputs": [],
   "source": []
  },
  {
   "cell_type": "code",
   "execution_count": null,
   "metadata": {},
   "outputs": [],
   "source": []
  },
  {
   "cell_type": "code",
   "execution_count": null,
   "metadata": {},
   "outputs": [],
   "source": []
  },
  {
   "cell_type": "code",
   "execution_count": null,
   "metadata": {},
   "outputs": [],
   "source": []
  },
  {
   "cell_type": "code",
   "execution_count": null,
   "metadata": {},
   "outputs": [],
   "source": []
  }
 ],
 "metadata": {
  "kernelspec": {
   "display_name": "Python 3.6.9 64-bit",
   "language": "python",
   "name": "python36964bit6486db22bd404319aca96f84d42312c3"
  },
  "language_info": {
   "codemirror_mode": {
    "name": "ipython",
    "version": 3
   },
   "file_extension": ".py",
   "mimetype": "text/x-python",
   "name": "python",
   "nbconvert_exporter": "python",
   "pygments_lexer": "ipython3",
   "version": "3.6.9"
  }
 },
 "nbformat": 4,
 "nbformat_minor": 4
}
