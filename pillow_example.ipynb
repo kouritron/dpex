{
 "cells": [
  {
   "cell_type": "code",
   "execution_count": 1,
   "metadata": {},
   "outputs": [],
   "source": [
    "from PIL import Image, ImageDraw, ImageFilter"
   ]
  },
  {
   "cell_type": "code",
   "execution_count": 2,
   "metadata": {},
   "outputs": [],
   "source": [
    "# urllib3 is not in standard library, its used, maybe written by requests, so u prolly have it.\n",
    "# urllib and urllib2 existed in python 2 days. in python 3 there is only urllib\n",
    "# even urllib recommends using requests in its docs\n",
    "# urllib.request.urlopen() uses HTTP/1.1 and includes Connection:close header in its HTTP requests.\n",
    "\n",
    "from io import BytesIO\n",
    "import urllib\n",
    "import requests"
   ]
  },
  {
   "cell_type": "markdown",
   "metadata": {},
   "source": [
    "# create new blank image"
   ]
  },
  {
   "cell_type": "code",
   "execution_count": 3,
   "metadata": {},
   "outputs": [
    {
     "name": "stdout",
     "output_type": "stream",
     "text": [
      "format: None, size: (600, 400), mode: RGBA\n"
     ]
    }
   ],
   "source": [
    "w = 600\n",
    "h = 400\n",
    "# RGBA: 4x8 bit true color with alpha\n",
    "# RGB:  3x8 bit true color\n",
    "# L:    1x8 bit black and white\n",
    "im = Image.new(mode='RGBA', size=(w,h), color=(177,2,177, 250))\n",
    "\n",
    "print(f'format: {im.format}, size: {im.size}, mode: {im.mode}')\n",
    "\n",
    "# uncomment to launch in external tool\n",
    "# im.show()"
   ]
  },
  {
   "cell_type": "code",
   "execution_count": null,
   "metadata": {},
   "outputs": [],
   "source": []
  },
  {
   "cell_type": "code",
   "execution_count": null,
   "metadata": {},
   "outputs": [],
   "source": []
  },
  {
   "cell_type": "code",
   "execution_count": null,
   "metadata": {},
   "outputs": [],
   "source": []
  },
  {
   "cell_type": "markdown",
   "metadata": {},
   "source": [
    "# Draw Line"
   ]
  },
  {
   "cell_type": "code",
   "execution_count": 5,
   "metadata": {},
   "outputs": [],
   "source": [
    "# **************************************** Draw a line\n",
    "image = Image.new(mode='L', size=(600, 600), color=255)\n",
    "\n",
    "# Draw a line\n",
    "imd = ImageDraw.Draw(image)\n",
    "x = image.width / 2\n",
    "y_start = 0\n",
    "y_end = image.height\n",
    "line = ((x, y_start), (x, y_end))\n",
    "\n",
    "# imd.line(xy, fill=None, width=0, joint=None)\n",
    "# Docstring: Draw a line, or a connected sequence of line segments.\n",
    "# fill looks like is fill color\n",
    "imd.line(line, fill=16, width=10)\n",
    "\n",
    "# del imd\n",
    "# image.show()"
   ]
  },
  {
   "cell_type": "code",
   "execution_count": 6,
   "metadata": {},
   "outputs": [],
   "source": [
    "# **************************************** Draw multiple lines\n",
    "image = Image.new(mode='L', size=(600, 600), color=255)\n",
    "\n",
    "# Draw some lines\n",
    "imd = ImageDraw.Draw(image)\n",
    "y_start = 0\n",
    "y_end = image.height\n",
    "step_size = int(image.width / 10)\n",
    "\n",
    "for x in range(0, image.width, step_size):\n",
    "    line = ((x, y_start), (x, y_end))\n",
    "    imd.line(line, fill=0, width=3)\n",
    "\n",
    "del imd\n",
    "# image.show()"
   ]
  },
  {
   "cell_type": "code",
   "execution_count": null,
   "metadata": {},
   "outputs": [],
   "source": []
  },
  {
   "cell_type": "markdown",
   "metadata": {},
   "source": [
    "# Download an image from a URL"
   ]
  },
  {
   "cell_type": "code",
   "execution_count": 7,
   "metadata": {},
   "outputs": [
    {
     "name": "stdout",
     "output_type": "stream",
     "text": [
      "format: PNG, size: (180, 180), mode: RGB\n"
     ]
    }
   ],
   "source": [
    "# **************************************** DL image using requests\n",
    "url = 'https://avatars1.githubusercontent.com/u/24477926'\n",
    "\n",
    "# -------------------- using requests\n",
    "resp = requests.get(url)\n",
    "# get the bytes, b'\\x89PNG\\r\\n\\x1a\\n\\x00 .....\n",
    "remote_image_bytes = resp.content\n",
    "\n",
    "# -------------------- using urlopen\n",
    "# resp = urllib.request.urlopen(url)\n",
    "# # get the bytes, b'\\x89PNG\\r\\n\\x1a\\n\\x00 .....\n",
    "# remote_image_bytes = resp.read()\n",
    "\n",
    "# turn it into a file handle like object using BytesIO\n",
    "image_fh = BytesIO(remote_image_bytes)\n",
    "im = Image.open(image_fh)\n",
    "\n",
    "print(f'format: {im.format}, size: {im.size}, mode: {im.mode}')\n",
    "# im.show()"
   ]
  },
  {
   "cell_type": "code",
   "execution_count": null,
   "metadata": {},
   "outputs": [],
   "source": []
  },
  {
   "cell_type": "code",
   "execution_count": null,
   "metadata": {},
   "outputs": [],
   "source": []
  },
  {
   "cell_type": "code",
   "execution_count": null,
   "metadata": {},
   "outputs": [],
   "source": []
  },
  {
   "cell_type": "markdown",
   "metadata": {},
   "source": [
    "# Apply some filters to an image"
   ]
  },
  {
   "cell_type": "code",
   "execution_count": 8,
   "metadata": {},
   "outputs": [
    {
     "name": "stdout",
     "output_type": "stream",
     "text": [
      "format: None, size: (180, 180), mode: RGB\n"
     ]
    }
   ],
   "source": [
    "# **************************************** Blur an image\n",
    "\n",
    "image_fh = BytesIO(requests.get('https://avatars1.githubusercontent.com/u/24477926').content)\n",
    "src_im = Image.open(image_fh)\n",
    "\n",
    "im = src_im.filter(ImageFilter.BLUR)\n",
    "\n",
    "print(f'format: {im.format}, size: {im.size}, mode: {im.mode}')\n",
    "# im.show()"
   ]
  },
  {
   "cell_type": "code",
   "execution_count": 9,
   "metadata": {},
   "outputs": [
    {
     "name": "stdout",
     "output_type": "stream",
     "text": [
      "format: None, size: (180, 180), mode: RGB\n"
     ]
    }
   ],
   "source": [
    "# **************************************** SHARPEN \n",
    "\n",
    "image_fh = BytesIO(requests.get('https://avatars1.githubusercontent.com/u/24477926').content)\n",
    "src_im = Image.open(image_fh)\n",
    "\n",
    "im = src_im.filter(ImageFilter.SHARPEN)\n",
    "\n",
    "print(f'format: {im.format}, size: {im.size}, mode: {im.mode}')\n",
    "# im.show()"
   ]
  },
  {
   "cell_type": "code",
   "execution_count": null,
   "metadata": {},
   "outputs": [],
   "source": []
  },
  {
   "cell_type": "code",
   "execution_count": null,
   "metadata": {},
   "outputs": [],
   "source": []
  },
  {
   "cell_type": "markdown",
   "metadata": {},
   "source": [
    "# The great PixelAccess "
   ]
  },
  {
   "cell_type": "code",
   "execution_count": 22,
   "metadata": {},
   "outputs": [
    {
     "name": "stdout",
     "output_type": "stream",
     "text": [
      "format: PNG, size: (180, 180), mode: RGB\n"
     ]
    }
   ],
   "source": [
    "image_fh = BytesIO(requests.get('https://avatars1.githubusercontent.com/u/24477926').content)\n",
    "im = Image.open(image_fh)\n",
    "\n",
    "print(f'format: {im.format}, size: {im.size}, mode: {im.mode}')\n",
    "im.show()"
   ]
  },
  {
   "cell_type": "code",
   "execution_count": 17,
   "metadata": {},
   "outputs": [
    {
     "name": "stdout",
     "output_type": "stream",
     "text": [
      "grid type: <class 'PixelAccess'>\n",
      "(255, 255, 255)\n",
      "(226, 231, 238)\n"
     ]
    }
   ],
   "source": [
    "grid = im.load()\n",
    "print(f'grid type: {type(grid)}')\n",
    "\n",
    "# upper left is 0,0\n",
    "# get any pixel\n",
    "print(grid[10,2])\n",
    "print(grid[50,120])\n",
    "\n",
    "# iterate over pixels and do something cool.\n",
    "im_w = im.size[0]\n",
    "im_h = im.size[1]"
   ]
  },
  {
   "cell_type": "code",
   "execution_count": null,
   "metadata": {},
   "outputs": [],
   "source": []
  },
  {
   "cell_type": "code",
   "execution_count": null,
   "metadata": {},
   "outputs": [],
   "source": [
    "# swapp all blue and red values."
   ]
  },
  {
   "cell_type": "code",
   "execution_count": 20,
   "metadata": {},
   "outputs": [],
   "source": [
    "for i in range(im_w):\n",
    "    for j in range(im_h):\n",
    "        # pixel is at grid[i,j]\n",
    "        r, g, b = grid[i, j]\n",
    "        grid[i, j] = b, g, r\n",
    "        "
   ]
  },
  {
   "cell_type": "code",
   "execution_count": 21,
   "metadata": {},
   "outputs": [],
   "source": [
    "im.show()"
   ]
  },
  {
   "cell_type": "code",
   "execution_count": null,
   "metadata": {},
   "outputs": [],
   "source": []
  },
  {
   "cell_type": "code",
   "execution_count": null,
   "metadata": {},
   "outputs": [],
   "source": []
  },
  {
   "cell_type": "code",
   "execution_count": null,
   "metadata": {},
   "outputs": [],
   "source": []
  },
  {
   "cell_type": "code",
   "execution_count": null,
   "metadata": {},
   "outputs": [],
   "source": []
  },
  {
   "cell_type": "code",
   "execution_count": null,
   "metadata": {},
   "outputs": [],
   "source": []
  }
 ],
 "metadata": {
  "kernelspec": {
   "display_name": "Python 3.6.9 64-bit",
   "language": "python",
   "name": "python36964bit6486db22bd404319aca96f84d42312c3"
  },
  "language_info": {
   "codemirror_mode": {
    "name": "ipython",
    "version": 3
   },
   "file_extension": ".py",
   "mimetype": "text/x-python",
   "name": "python",
   "nbconvert_exporter": "python",
   "pygments_lexer": "ipython3",
   "version": "3.6.9"
  }
 },
 "nbformat": 4,
 "nbformat_minor": 4
}
