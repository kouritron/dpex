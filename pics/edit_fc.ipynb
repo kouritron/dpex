{
 "cells": [
  {
   "cell_type": "code",
   "execution_count": 1,
   "metadata": {},
   "outputs": [],
   "source": [
    "import os\n",
    "import random\n",
    "import time\n",
    "\n",
    "from PIL import Image, ImageDraw, ImageFilter"
   ]
  },
  {
   "cell_type": "code",
   "execution_count": 2,
   "metadata": {},
   "outputs": [],
   "source": [
    "# urllib3 is not in standard library, its used, maybe written by requests, so u prolly have it.\n",
    "# urllib and urllib2 existed in python 2 days. in python 3 there is only urllib\n",
    "# even urllib recommends using requests in its docs\n",
    "# urllib.request.urlopen() uses HTTP/1.1 and includes Connection:close header in its HTTP requests.\n",
    "\n",
    "from io import BytesIO\n",
    "import urllib\n",
    "import requests"
   ]
  },
  {
   "cell_type": "code",
   "execution_count": null,
   "metadata": {},
   "outputs": [],
   "source": []
  },
  {
   "cell_type": "code",
   "execution_count": 3,
   "metadata": {},
   "outputs": [],
   "source": [
    "src_image_path = '/home/zu/x1ws/dpex/pics/lich6.jpg'\n",
    "dest_image_prefix = '/home/zu/x1ws/dpex/pics/lich6'\n",
    "\n",
    "with open(src_image_path, 'rb') as fh:\n",
    "    src_image_bytes = fh.read()"
   ]
  },
  {
   "cell_type": "code",
   "execution_count": 4,
   "metadata": {},
   "outputs": [],
   "source": [
    "def get_src_im():\n",
    "    # turn it into a file handle like object using BytesIO\n",
    "    image_fh = BytesIO(src_image_bytes)\n",
    "    res_im = Image.open(image_fh)\n",
    "\n",
    "    print(\"new src image created. result: \")\n",
    "    print(f'format: {res_im.format}, size: {res_im.size}, mode: {res_im.mode}')\n",
    "\n",
    "    return res_im"
   ]
  },
  {
   "cell_type": "code",
   "execution_count": 5,
   "metadata": {},
   "outputs": [
    {
     "name": "stdout",
     "output_type": "stream",
     "text": [
      "new src image created. result: \n",
      "format: JPEG, size: (1920, 1080), mode: RGB\n"
     ]
    }
   ],
   "source": [
    "src_im = get_src_im()\n",
    "# src_im.show()"
   ]
  },
  {
   "cell_type": "code",
   "execution_count": null,
   "metadata": {},
   "outputs": [],
   "source": []
  },
  {
   "cell_type": "code",
   "execution_count": null,
   "metadata": {},
   "outputs": [],
   "source": []
  },
  {
   "cell_type": "markdown",
   "metadata": {},
   "source": [
    "# Apply some filters to an image"
   ]
  },
  {
   "cell_type": "code",
   "execution_count": 9,
   "metadata": {},
   "outputs": [
    {
     "name": "stdout",
     "output_type": "stream",
     "text": [
      "new src image created. result: \n",
      "format: JPEG, size: (1920, 1080), mode: RGB\n",
      "\n",
      "blurred image created. result: \n",
      "format: None, size: (1920, 1080), mode: RGB\n"
     ]
    }
   ],
   "source": [
    "blurred_im = get_src_im().filter(ImageFilter.BLUR)\n",
    "\n",
    "print(\"\\nblurred image created. result: \")\n",
    "print(f'format: {blurred_im.format}, size: {blurred_im.size}, mode: {blurred_im.mode}')\n",
    "# blurred_im.show()"
   ]
  },
  {
   "cell_type": "code",
   "execution_count": 11,
   "metadata": {},
   "outputs": [
    {
     "name": "stdout",
     "output_type": "stream",
     "text": [
      "new src image created. result: \n",
      "format: JPEG, size: (1920, 1080), mode: RGB\n",
      "\n",
      "sharpened image created. result: \n",
      "format: None, size: (1920, 1080), mode: RGB\n"
     ]
    }
   ],
   "source": [
    "sharpened_im = get_src_im().filter(ImageFilter.SHARPEN)\n",
    "\n",
    "print(\"\\nsharpened image created. result: \")\n",
    "print(f'format: {sharpened_im.format}, size: {sharpened_im.size}, mode: {sharpened_im.mode}')\n",
    "# sharpened_im.show()"
   ]
  },
  {
   "cell_type": "code",
   "execution_count": null,
   "metadata": {},
   "outputs": [],
   "source": []
  },
  {
   "cell_type": "markdown",
   "metadata": {},
   "source": [
    "## helper utils"
   ]
  },
  {
   "cell_type": "code",
   "execution_count": 41,
   "metadata": {},
   "outputs": [],
   "source": [
    "# darken a band by pct, go no lower than 0. ie green down by 20%:\n",
    "# g = darken_band(g, 0.2)\n",
    "def darken_band(band, pct):\n",
    "    assert 0 < pct and pct < 1\n",
    "    \n",
    "    new_band = int(band - (band * pct))\n",
    "      \n",
    "    if new_band < 0:\n",
    "        new_band = 0\n",
    "        \n",
    "    return new_band"
   ]
  },
  {
   "cell_type": "code",
   "execution_count": null,
   "metadata": {},
   "outputs": [],
   "source": []
  },
  {
   "cell_type": "code",
   "execution_count": null,
   "metadata": {},
   "outputs": [],
   "source": []
  },
  {
   "cell_type": "code",
   "execution_count": null,
   "metadata": {},
   "outputs": [],
   "source": []
  },
  {
   "cell_type": "markdown",
   "metadata": {},
   "source": [
    "# Load PixelAccess "
   ]
  },
  {
   "cell_type": "code",
   "execution_count": 81,
   "metadata": {},
   "outputs": [
    {
     "name": "stdout",
     "output_type": "stream",
     "text": [
      "new src image created. result: \n",
      "format: JPEG, size: (1920, 1080), mode: RGB\n",
      "\n",
      "image loaded\n",
      "grid type: <class 'PixelAccess'>\n",
      "(0, 0, 0)\n",
      "(0, 0, 0)\n"
     ]
    }
   ],
   "source": [
    "# im = sharpened_im\n",
    "# im = blurred_im\n",
    "im = get_src_im()\n",
    "# im.show()\n",
    "\n",
    "grid = im.load()\n",
    "print('\\nimage loaded')\n",
    "print(f'grid type: {type(grid)}')\n",
    "\n",
    "# upper left is 0,0\n",
    "# get any pixel\n",
    "print(grid[10,2])\n",
    "print(grid[50,120])\n",
    "\n",
    "# iterate over pixels and do something cool.\n",
    "im_w = im.size[0]\n",
    "im_h = im.size[1]"
   ]
  },
  {
   "cell_type": "code",
   "execution_count": null,
   "metadata": {},
   "outputs": [],
   "source": []
  },
  {
   "cell_type": "code",
   "execution_count": 82,
   "metadata": {},
   "outputs": [],
   "source": [
    "pct = 0.2\n",
    "for i in range(im_w):\n",
    "    for j in range(im_h):\n",
    "        # pixel is at grid[i,j]\n",
    "        r, g, b = grid[i, j]\n",
    "        grid[i, j] = darken_band(b, pct), darken_band(g, pct), darken_band(r, pct)\n",
    "# im.show()"
   ]
  },
  {
   "cell_type": "code",
   "execution_count": 83,
   "metadata": {},
   "outputs": [],
   "source": [
    "# format will be determined from filename extension.\n",
    "im.save(f\"{dest_image_prefix}_yellow_20pct_dark.jpg\")\n",
    "im.save(f\"{dest_image_prefix}_yellow_20pct_dark.png\") "
   ]
  },
  {
   "cell_type": "code",
   "execution_count": null,
   "metadata": {},
   "outputs": [],
   "source": []
  },
  {
   "cell_type": "code",
   "execution_count": null,
   "metadata": {},
   "outputs": [],
   "source": []
  },
  {
   "cell_type": "code",
   "execution_count": null,
   "metadata": {},
   "outputs": [],
   "source": []
  },
  {
   "cell_type": "code",
   "execution_count": null,
   "metadata": {},
   "outputs": [],
   "source": [
    "# swapp all blue and red values.\n",
    "for i in range(im_w):\n",
    "    for j in range(im_h):\n",
    "        # pixel is at grid[i,j]\n",
    "        r, g, b = grid[i, j]\n",
    "        grid[i, j] = b, g, r\n",
    "# im.show()"
   ]
  },
  {
   "cell_type": "code",
   "execution_count": null,
   "metadata": {},
   "outputs": [],
   "source": [
    "# format will be determined from filename extension.\n",
    "# im.save(f\"{dest_image_prefix}_red.jpg\")\n",
    "# im.save(f\"{dest_image_prefix}_red.png\")"
   ]
  },
  {
   "cell_type": "code",
   "execution_count": null,
   "metadata": {},
   "outputs": [],
   "source": []
  },
  {
   "cell_type": "code",
   "execution_count": null,
   "metadata": {},
   "outputs": [],
   "source": []
  },
  {
   "cell_type": "code",
   "execution_count": null,
   "metadata": {},
   "outputs": [],
   "source": []
  },
  {
   "cell_type": "code",
   "execution_count": 22,
   "metadata": {},
   "outputs": [],
   "source": []
  },
  {
   "cell_type": "code",
   "execution_count": 24,
   "metadata": {},
   "outputs": [],
   "source": [
    "# darken all pixels a bit\n",
    "pct = 0.6\n",
    "\n",
    "for i in range(im_w):\n",
    "    for j in range(im_h):\n",
    "        # pixel is at grid[i,j]\n",
    "        r, g, b = grid[i, j]\n",
    "        r = darken_band(r, pct)\n",
    "        g = darken_band(g, pct)\n",
    "        b = darken_band(b, pct)\n",
    "        grid[i, j] = r, g, b\n",
    "im.show()"
   ]
  },
  {
   "cell_type": "code",
   "execution_count": 25,
   "metadata": {},
   "outputs": [],
   "source": [
    "# format will be determined from filename extension.\n",
    "# im.save(f\"{dest_image_prefix}_green.jpg\")\n",
    "# im.save(f\"{dest_image_prefix}_green.png\") "
   ]
  },
  {
   "cell_type": "code",
   "execution_count": null,
   "metadata": {},
   "outputs": [],
   "source": []
  },
  {
   "cell_type": "code",
   "execution_count": null,
   "metadata": {},
   "outputs": [],
   "source": []
  },
  {
   "cell_type": "code",
   "execution_count": null,
   "metadata": {},
   "outputs": [],
   "source": []
  },
  {
   "cell_type": "code",
   "execution_count": null,
   "metadata": {},
   "outputs": [],
   "source": []
  },
  {
   "cell_type": "code",
   "execution_count": null,
   "metadata": {},
   "outputs": [],
   "source": []
  }
 ],
 "metadata": {
  "kernelspec": {
   "display_name": "Python 3.6.9 64-bit",
   "language": "python",
   "name": "python36964bit6486db22bd404319aca96f84d42312c3"
  },
  "language_info": {
   "codemirror_mode": {
    "name": "ipython",
    "version": 3
   },
   "file_extension": ".py",
   "mimetype": "text/x-python",
   "name": "python",
   "nbconvert_exporter": "python",
   "pygments_lexer": "ipython3",
   "version": "3.6.9"
  }
 },
 "nbformat": 4,
 "nbformat_minor": 4
}
