{
 "cells": [
  {
   "cell_type": "code",
   "execution_count": 1,
   "metadata": {},
   "outputs": [],
   "source": [
    "import os\n",
    "import random\n",
    "import time\n",
    "\n",
    "from PIL import Image, ImageDraw, ImageFilter"
   ]
  },
  {
   "cell_type": "code",
   "execution_count": 2,
   "metadata": {},
   "outputs": [],
   "source": [
    "# urllib3 is not in standard library, its used, maybe written by requests, so u prolly have it.\n",
    "# urllib and urllib2 existed in python 2 days. in python 3 there is only urllib\n",
    "# even urllib recommends using requests in its docs\n",
    "# urllib.request.urlopen() uses HTTP/1.1 and includes Connection:close header in its HTTP requests.\n",
    "\n",
    "from io import BytesIO\n",
    "import urllib\n",
    "import requests"
   ]
  },
  {
   "cell_type": "code",
   "execution_count": null,
   "metadata": {},
   "outputs": [],
   "source": []
  },
  {
   "cell_type": "code",
   "execution_count": 3,
   "metadata": {},
   "outputs": [],
   "source": [
    "src_image_path = '/home/zu/x1ws/dpex/pics/3.jpg'\n",
    "dest_image_png = '/home/zu/x1ws/dpex/pics/dest.png'\n",
    "dest_image_jpg = '/home/zu/x1ws/dpex/pics/dest.jpg'\n",
    "\n",
    "with open(src_image_path, 'rb') as fh:\n",
    "    src_image_bytes = fh.read()"
   ]
  },
  {
   "cell_type": "code",
   "execution_count": 4,
   "metadata": {},
   "outputs": [],
   "source": [
    "def get_src_im():\n",
    "    # turn it into a file handle like object using BytesIO\n",
    "    image_fh = BytesIO(src_image_bytes)\n",
    "    res_im = Image.open(image_fh)\n",
    "\n",
    "    print(\"new src image created. result: \")\n",
    "    print(f'format: {res_im.format}, size: {res_im.size}, mode: {res_im.mode}')\n",
    "\n",
    "    return res_im"
   ]
  },
  {
   "cell_type": "code",
   "execution_count": 5,
   "metadata": {},
   "outputs": [
    {
     "name": "stdout",
     "output_type": "stream",
     "text": [
      "new src image created. result: \n",
      "format: JPEG, size: (2048, 1536), mode: RGB\n"
     ]
    }
   ],
   "source": [
    "src_im = get_src_im()\n",
    "# src_im.show()"
   ]
  },
  {
   "cell_type": "code",
   "execution_count": null,
   "metadata": {},
   "outputs": [],
   "source": []
  },
  {
   "cell_type": "code",
   "execution_count": null,
   "metadata": {},
   "outputs": [],
   "source": []
  },
  {
   "cell_type": "markdown",
   "metadata": {},
   "source": [
    "# Apply some filters to an image"
   ]
  },
  {
   "cell_type": "code",
   "execution_count": 10,
   "metadata": {},
   "outputs": [
    {
     "name": "stdout",
     "output_type": "stream",
     "text": [
      "new src image created. result: \n",
      "format: JPEG, size: (2048, 1536), mode: RGB\n",
      "\n",
      "blurred image created. result: \n",
      "format: None, size: (2048, 1536), mode: RGB\n"
     ]
    }
   ],
   "source": [
    "blurred_im = get_src_im().filter(ImageFilter.BLUR)\n",
    "\n",
    "print(\"\\nblurred image created. result: \")\n",
    "print(f'format: {blurred_im.format}, size: {blurred_im.size}, mode: {blurred_im.mode}')\n",
    "# blurred_im.show()"
   ]
  },
  {
   "cell_type": "code",
   "execution_count": 11,
   "metadata": {},
   "outputs": [
    {
     "name": "stdout",
     "output_type": "stream",
     "text": [
      "new src image created. result: \n",
      "format: JPEG, size: (2048, 1536), mode: RGB\n",
      "\n",
      "sharpened image created. result: \n",
      "format: None, size: (2048, 1536), mode: RGB\n"
     ]
    }
   ],
   "source": [
    "sharpened_im = get_src_im().filter(ImageFilter.SHARPEN)\n",
    "\n",
    "print(\"\\nsharpened image created. result: \")\n",
    "print(f'format: {sharpened_im.format}, size: {sharpened_im.size}, mode: {sharpened_im.mode}')\n",
    "# sharpened_im.show()"
   ]
  },
  {
   "cell_type": "code",
   "execution_count": 20,
   "metadata": {},
   "outputs": [
    {
     "name": "stdout",
     "output_type": "stream",
     "text": [
      "new src image created. result: \n",
      "format: JPEG, size: (2048, 1536), mode: RGB\n"
     ]
    }
   ],
   "source": [
    "# im = sharpened_im\n",
    "# im = blurred_im\n",
    "im = get_src_im()"
   ]
  },
  {
   "cell_type": "code",
   "execution_count": null,
   "metadata": {},
   "outputs": [],
   "source": []
  },
  {
   "cell_type": "markdown",
   "metadata": {},
   "source": [
    "# The great PixelAccess "
   ]
  },
  {
   "cell_type": "code",
   "execution_count": 21,
   "metadata": {},
   "outputs": [
    {
     "name": "stdout",
     "output_type": "stream",
     "text": [
      "grid type: <class 'PixelAccess'>\n",
      "(0, 16, 41)\n",
      "(0, 15, 38)\n"
     ]
    }
   ],
   "source": [
    "grid = im.load()\n",
    "print(f'grid type: {type(grid)}')\n",
    "\n",
    "# upper left is 0,0\n",
    "# get any pixel\n",
    "print(grid[10,2])\n",
    "print(grid[50,120])\n",
    "\n",
    "# iterate over pixels and do something cool.\n",
    "im_w = im.size[0]\n",
    "im_h = im.size[1]"
   ]
  },
  {
   "cell_type": "code",
   "execution_count": null,
   "metadata": {},
   "outputs": [],
   "source": []
  },
  {
   "cell_type": "code",
   "execution_count": 22,
   "metadata": {},
   "outputs": [],
   "source": [
    "# swapp all blue and red values.\n",
    "for i in range(im_w):\n",
    "    for j in range(im_h):\n",
    "        # pixel is at grid[i,j]\n",
    "        r, g, b = grid[i, j]\n",
    "        grid[i, j] = b, g, r\n",
    "# im.show()     "
   ]
  },
  {
   "cell_type": "code",
   "execution_count": null,
   "metadata": {},
   "outputs": [],
   "source": []
  },
  {
   "cell_type": "code",
   "execution_count": 23,
   "metadata": {},
   "outputs": [],
   "source": [
    "def darken_pixel(r, g, b, pct):\n",
    "    assert 0 < pct and pct < 1\n",
    "    \n",
    "    new_r = int(r - (r * pct))\n",
    "    new_g = int(g - (g * pct))\n",
    "    new_b = int(b - (b * pct))\n",
    "    \n",
    "    if new_r < 0:\n",
    "        new_r = 0\n",
    "    \n",
    "    if new_g < 0:\n",
    "        new_r = 0\n",
    "    \n",
    "    if new_b < 0:\n",
    "        new_r = 0\n",
    "        \n",
    "    return new_r, new_g, new_b"
   ]
  },
  {
   "cell_type": "code",
   "execution_count": 24,
   "metadata": {},
   "outputs": [],
   "source": [
    "# darken all pixels a bit\n",
    "for i in range(im_w):\n",
    "    for j in range(im_h):\n",
    "        # pixel is at grid[i,j]\n",
    "        r, g, b = grid[i, j]\n",
    "        r, g, b = darken_pixel(r,g,b,0.4)\n",
    "        grid[i, j] = r, g, b"
   ]
  },
  {
   "cell_type": "code",
   "execution_count": null,
   "metadata": {},
   "outputs": [],
   "source": []
  },
  {
   "cell_type": "code",
   "execution_count": null,
   "metadata": {},
   "outputs": [],
   "source": []
  },
  {
   "cell_type": "code",
   "execution_count": 25,
   "metadata": {},
   "outputs": [],
   "source": [
    "# format will be determined from filename extension.\n",
    "im.save(dest_image_png)\n",
    "im.save(dest_image_jpg)"
   ]
  },
  {
   "cell_type": "code",
   "execution_count": 26,
   "metadata": {},
   "outputs": [],
   "source": [
    "# im.save?"
   ]
  },
  {
   "cell_type": "code",
   "execution_count": null,
   "metadata": {},
   "outputs": [],
   "source": []
  },
  {
   "cell_type": "code",
   "execution_count": null,
   "metadata": {},
   "outputs": [],
   "source": []
  },
  {
   "cell_type": "code",
   "execution_count": null,
   "metadata": {},
   "outputs": [],
   "source": []
  },
  {
   "cell_type": "code",
   "execution_count": null,
   "metadata": {},
   "outputs": [],
   "source": []
  }
 ],
 "metadata": {
  "kernelspec": {
   "display_name": "Python 3.6.9 64-bit",
   "language": "python",
   "name": "python36964bit6486db22bd404319aca96f84d42312c3"
  },
  "language_info": {
   "codemirror_mode": {
    "name": "ipython",
    "version": 3
   },
   "file_extension": ".py",
   "mimetype": "text/x-python",
   "name": "python",
   "nbconvert_exporter": "python",
   "pygments_lexer": "ipython3",
   "version": "3.6.9"
  }
 },
 "nbformat": 4,
 "nbformat_minor": 4
}
